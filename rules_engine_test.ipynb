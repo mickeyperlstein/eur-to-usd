{
 "cells": [
  {
   "cell_type": "code",
   "execution_count": null,
   "id": "20ddffde",
   "metadata": {},
   "outputs": [],
   "source": [
    "import rule_engine"
   ]
  },
  {
   "cell_type": "code",
   "execution_count": 30,
   "id": "dfb4e183",
   "metadata": {},
   "outputs": [
    {
     "data": {
      "text/plain": [
       "{'last_activity_date': '2021-04-17 21:37',\n",
       " 'hours_since_activity_update': 2.5486627252777776,\n",
       " 'last_report_in_days': 0}"
      ]
     },
     "execution_count": 30,
     "metadata": {},
     "output_type": "execute_result"
    }
   ],
   "source": [
    "#create data\n",
    "from datetime import datetime\n",
    "\n",
    "data = {'last_activity_date': '2021-04-17 21:37' }\n",
    "td = datetime.fromisoformat(data.get('last_activity_date')) - datetime.utcnow() # type: timedelta\n",
    "data.update({'hours_since_activity_update': td.total_seconds() / 3600})\n",
    "data.update({'last_report_in_days': td.days})\n",
    "data"
   ]
  },
  {
   "cell_type": "code",
   "execution_count": 18,
   "id": "dade772d",
   "metadata": {},
   "outputs": [],
   "source": [
    "?datetime.isoformat"
   ]
  },
  {
   "cell_type": "code",
   "execution_count": 1,
   "id": "52689ac0",
   "metadata": {},
   "outputs": [
    {
     "data": {
      "text/plain": [
       "False"
      ]
     },
     "execution_count": 1,
     "metadata": {},
     "output_type": "execute_result"
    }
   ],
   "source": [
    "\n",
    "\n",
    "# match a literal first name and applying a regex to the email\n",
    "rule = rule_engine.Rule(\n",
    "    'last_activity_update == \"Luke\" and email =~ \".*@rebels.org$\"'\n",
    ")  # => <Rule text='first_name == \"Luke\" and email =~ \".*@rebels.org$\"' >\n",
    "\n"
   ]
  },
  {
   "cell_type": "code",
   "execution_count": null,
   "id": "479364dd",
   "metadata": {},
   "outputs": [],
   "source": []
  },
  {
   "cell_type": "code",
   "execution_count": 3,
   "id": "1d36567c",
   "metadata": {},
   "outputs": [
    {
     "data": {
      "text/plain": [
       "True"
      ]
     },
     "execution_count": 3,
     "metadata": {},
     "output_type": "execute_result"
    }
   ],
   "source": [
    "rule.matches({\n",
    "    'first_name': 'Luke', 'last_name': 'Skywalker', 'email': 'luke@rebels.org'\n",
    "})  # => True\n"
   ]
  },
  {
   "cell_type": "code",
   "execution_count": 4,
   "id": "9d8d4266",
   "metadata": {},
   "outputs": [
    {
     "data": {
      "text/plain": [
       "False"
      ]
     },
     "execution_count": 4,
     "metadata": {},
     "output_type": "execute_result"
    }
   ],
   "source": [
    "rule.matches({\n",
    "    'first_name': 'Darth', 'last_name': 'Vader', 'email': 'dvader@empire.net'\n",
    "})  # => False\n"
   ]
  },
  {
   "cell_type": "code",
   "execution_count": 9,
   "id": "f3b886ee",
   "metadata": {},
   "outputs": [
    {
     "name": "stdout",
     "output_type": "stream",
     "text": [
      "2021-04-17 21:37:56.354927\n"
     ]
    }
   ],
   "source": [
    "from  datetime import datetime\n",
    "print(datetime.now())"
   ]
  }
 ],
 "metadata": {
  "kernelspec": {
   "display_name": "Python 3",
   "language": "python",
   "name": "python3"
  },
  "language_info": {
   "codemirror_mode": {
    "name": "ipython",
    "version": 3
   },
   "file_extension": ".py",
   "mimetype": "text/x-python",
   "name": "python",
   "nbconvert_exporter": "python",
   "pygments_lexer": "ipython3",
   "version": "3.8.5"
  }
 },
 "nbformat": 4,
 "nbformat_minor": 5
}
